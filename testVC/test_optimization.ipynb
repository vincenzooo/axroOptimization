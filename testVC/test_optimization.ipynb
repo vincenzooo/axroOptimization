{
 "cells": [
  {
   "cell_type": "code",
   "execution_count": 1,
   "metadata": {
    "collapsed": false
   },
   "outputs": [
    {
     "name": "stdout",
     "output_type": "stream",
     "text": [
      "Once deleted, variables cannot be recovered. Proceed (y/[n])? y\n",
      "Using matplotlib backend: Qt4Agg\n",
      "Populating the interactive namespace from numpy and matplotlib\n"
     ]
    }
   ],
   "source": [
    "%reset\n",
    "%pylab\n",
    "\n",
    "from pySurf.fit_cylinder import *\n",
    "from pySurf.points import *\n",
    "from pySurf.psd2d import calculatePSD,plotPSDs,PSDplot\n",
    "from dataIO.fn_add_subfix import fn_add_subfix\n",
    "#from PSDanalysis import *\n",
    "from pySurf.instrumentReader import matrix4D_reader\n",
    "from pySurf.instrumentReader import points_reader\n",
    "\n",
    "%load_ext autoreload\n",
    "%autoreload 2"
   ]
  },
  {
   "cell_type": "code",
   "execution_count": 3,
   "metadata": {
    "collapsed": true
   },
   "outputs": [],
   "source": [
    "%qtconsole"
   ]
  },
  {
   "cell_type": "code",
   "execution_count": 2,
   "metadata": {
    "collapsed": true
   },
   "outputs": [],
   "source": [
    "outfolder=r'results\\PCO1.2S03_4D' #output "
   ]
  },
  {
   "cell_type": "code",
   "execution_count": 3,
   "metadata": {
    "collapsed": true
   },
   "outputs": [],
   "source": [
    "infolder=r'data\\PCO1S08'"
   ]
  },
  {
   "cell_type": "code",
   "execution_count": 4,
   "metadata": {
    "collapsed": true
   },
   "outputs": [],
   "source": [
    "ypix=0.151423438691 #from datafile\n",
    "ytox=220./200.  \n",
    "zscale=.6328\n",
    "xc=0\n",
    "yc=0\n",
    "\n",
    "#Arealoc={5:(85,0),6:(111,0),7:(142,0),8:(38,0)}  #location of centers of scanned areas indexed with file #\n",
    "#ff=os.path.join(infolder,r'170130_PCO1S28\\170130_PCO1S28_fiducials.csv')\n",
    "wf=os.path.join(infolder,r'07_PCO1S08_refSubtracted.csv')"
   ]
  },
  {
   "cell_type": "code",
   "execution_count": 5,
   "metadata": {
    "collapsed": false
   },
   "outputs": [
    {
     "name": "stderr",
     "output_type": "stream",
     "text": [
      "C:\\Users\\Vincenzo\\Google Drive\\libraries\\python\\userKov\\pySurf\\data2D.py:30: RuntimeWarning: invalid value encountered in greater\n",
      "  data[((data>zrange[1]) | (data<zrange[0]))]=np.nan\n",
      "C:\\Users\\Vincenzo\\Google Drive\\libraries\\python\\userKov\\pySurf\\data2D.py:30: RuntimeWarning: invalid value encountered in less\n",
      "  data[((data>zrange[1]) | (data<zrange[0]))]=np.nan\n"
     ]
    },
    {
     "data": {
      "text/plain": [
       "<matplotlib.image.AxesImage at 0xa2312b0>"
      ]
     },
     "execution_count": 5,
     "metadata": {},
     "output_type": "execute_result"
    }
   ],
   "source": [
    "plt.figure()\n",
    "wdata,x,y=matrix4D_reader(wf,ypix=ypix,ytox=ytox,zscale=zscale,scale=(-1,1,1))\n",
    "plt.imshow(wdata,extent=(x[0],x[-1],y[0],y[-1]),aspect='equal',interpolation='none')"
   ]
  },
  {
   "cell_type": "code",
   "execution_count": null,
   "metadata": {
    "collapsed": true
   },
   "outputs": [],
   "source": []
  }
 ],
 "metadata": {
  "kernelspec": {
   "display_name": "Python 2",
   "language": "python",
   "name": "python2"
  },
  "language_info": {
   "codemirror_mode": {
    "name": "ipython",
    "version": 2
   },
   "file_extension": ".py",
   "mimetype": "text/x-python",
   "name": "python",
   "nbconvert_exporter": "python",
   "pygments_lexer": "ipython2",
   "version": "2.7.11"
  }
 },
 "nbformat": 4,
 "nbformat_minor": 0
}
